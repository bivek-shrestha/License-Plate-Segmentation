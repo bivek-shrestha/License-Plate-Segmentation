{
 "cells": [
  {
   "cell_type": "code",
   "execution_count": null,
   "metadata": {
    "collapsed": false
   },
   "outputs": [],
   "source": [
    "import matplotlib.pyplot as plt\n",
    "import numpy as np\n",
    "import os\n",
    "import glob\n",
    "from PIL import Image\n",
    "from keras.preprocessing.image import ImageDataGenerator\n",
    "import random\n",
    "import math\n",
    "%matplotlib inline"
   ]
  },
  {
   "cell_type": "code",
   "execution_count": null,
   "metadata": {
    "collapsed": true
   },
   "outputs": [],
   "source": [
    "images_dir = \"./images\"\n",
    "# list of all digits\n",
    "digits = list(map(str, range(10))) + [\"ba\", \"pa\"]\n",
    "# map digits to their respective directory path\n",
    "digits_dir = dict(zip(digits, map(lambda d: os.path.join(images_dir, d), digits)))"
   ]
  },
  {
   "cell_type": "code",
   "execution_count": null,
   "metadata": {
    "collapsed": false
   },
   "outputs": [],
   "source": [
    "total_images = sum(len(glob.glob(os.path.join(folder, \"*.jpg\"))) for _, folder in digits_dir.items())\n",
    "total_images"
   ]
  },
  {
   "cell_type": "code",
   "execution_count": null,
   "metadata": {
    "collapsed": false
   },
   "outputs": [],
   "source": [
    "im_width = im_height = 128\n",
    "batch_size = 32\n",
    "validation_split = 0.3\n",
    "\n",
    "datagen = ImageDataGenerator(rescale=1.0/255.0, \n",
    "                             validation_split=validation_split,\n",
    "                             shear_range=0.2,\n",
    "                             zoom_range=0.2,\n",
    "                             rotation_range=10, \n",
    "#                              width_shift_range=0.2,\n",
    "#                              height_shift_range=0.2,\n",
    "                            )\n",
    "\n",
    "train_gen = datagen.flow_from_directory(images_dir, target_size=(im_height, im_width), batch_size=batch_size, subset=\"training\")\n",
    "validation_gen = datagen.flow_from_directory(images_dir, target_size=(im_height, im_width), batch_size=batch_size, subset=\"validation\")\n",
    "train_steps_per_epoch = int(total_images * (1 - validation_split)) // batch_size\n",
    "validation_steps_per_epoch = int(total_images * validation_split) // batch_size"
   ]
  },
  {
   "cell_type": "code",
   "execution_count": null,
   "metadata": {
    "collapsed": false
   },
   "outputs": [],
   "source": [
    "from keras.layers import Input, Dense, BatchNormalization, Conv2D, MaxPool2D, GlobalMaxPool2D, Flatten\n",
    "from keras.models import Model\n",
    "\n",
    "def conv_block(inp, filters=32, bn=True, pool=True):\n",
    "    _ = Conv2D(filters=filters, kernel_size=3, activation='relu')(inp)\n",
    "    if bn:\n",
    "        _ = BatchNormalization()(_)\n",
    "    if pool:\n",
    "        _ = MaxPool2D()(_)\n",
    "    return _\n",
    "\n",
    "input_img = Input(shape=(im_height, im_width, 3))\n",
    "_ = conv_block(input_img, filters=32, bn=False, pool=False)\n",
    "_ = conv_block(_, filters=32*2)\n",
    "_ = conv_block(_, filters=32*3)\n",
    "_ = conv_block(_, filters=32*4)\n",
    "_ = conv_block(_, filters=32*5)\n",
    "_ = conv_block(_, filters=32*6)\n",
    "_ = GlobalMaxPool2D()(_)\n",
    "_ = Dense(units=128, activation=\"relu\")(_)\n",
    "_ = Dense(units=12, activation=\"softmax\")(_)\n",
    "\n",
    "model = Model(inputs=input_img, outputs=_)\n",
    "model.compile(optimizer='sgd', loss='categorical_crossentropy', metrics=['accuracy'])\n",
    "model.summary()"
   ]
  },
  {
   "cell_type": "code",
   "execution_count": null,
   "metadata": {
    "collapsed": false
   },
   "outputs": [],
   "source": [
    "history = model.fit_generator(train_gen, steps_per_epoch=train_steps_per_epoch, epochs=20, \n",
    "                              validation_data=validation_gen, validation_steps=validation_steps_per_epoch)"
   ]
  },
  {
   "cell_type": "code",
   "execution_count": null,
   "metadata": {
    "collapsed": false
   },
   "outputs": [],
   "source": [
    "def plot_train_history(history):\n",
    "    fig, axes = plt.subplots(1, 2, figsize=(10, 5))\n",
    "    axes[0].plot(history.history['acc'], label='Traininng accuracy')\n",
    "    axes[0].plot(history.history['val_acc'], label='Validation accuracy')\n",
    "    axes[0].set_xlabel('Epochs')\n",
    "    axes[0].legend()\n",
    "\n",
    "\n",
    "    axes[1].plot(history.history['loss'], label='Training loss')\n",
    "    axes[1].plot(history.history['val_loss'], label='Validation loss')\n",
    "    axes[1].set_xlabel('Epochs')\n",
    "    axes[1].legend()\n",
    "\n",
    "plot_train_history(history)"
   ]
  },
  {
   "cell_type": "markdown",
   "metadata": {},
   "source": [
    "# Plot some predictions"
   ]
  },
  {
   "cell_type": "code",
   "execution_count": null,
   "metadata": {
    "collapsed": false
   },
   "outputs": [],
   "source": [
    "X, Y_true = next(validation_gen)\n",
    "Y_true = Y_true.argmax(axis=-1)\n",
    "Y_pred = model.predict_on_batch(X).argmax(axis=-1)"
   ]
  },
  {
   "cell_type": "code",
   "execution_count": null,
   "metadata": {
    "collapsed": false
   },
   "outputs": [],
   "source": [
    "n_cols = 5\n",
    "n_rows = math.ceil(len(X) / n_cols)\n",
    "fig, axes = plt.subplots(n_rows, n_cols, figsize=(n_cols+3, n_rows+4))\n",
    "for i, (x, y_true, y_pred) in enumerate(zip(X, Y_true, Y_pred)):\n",
    "    ax = axes.flat[i]\n",
    "    ax.imshow(x, aspect='equal')\n",
    "    ax.set_title(\"Orig:{}/Pred:{}\".format(digits[y_true], digits[y_pred]))\n",
    "\n",
    "for ax in axes.flat:\n",
    "    ax.axis('off')"
   ]
  },
  {
   "cell_type": "code",
   "execution_count": null,
   "metadata": {
    "collapsed": true
   },
   "outputs": [],
   "source": [
    "#fit.savefig(\"./predictions.png\")\n",
    "model.save('your_model.h5')"
   ]
  }
 ],
 "metadata": {
  "kernelspec": {
   "display_name": "base",
   "language": "python",
   "name": "python3"
  },
  "language_info": {
   "codemirror_mode": {
    "name": "ipython",
    "version": 3
   },
   "file_extension": ".py",
   "mimetype": "text/x-python",
   "name": "python",
   "nbconvert_exporter": "python",
   "pygments_lexer": "ipython3",
   "version": "3.9.13"
  },
  "vscode": {
   "interpreter": {
    "hash": "5495759e2c1662876d0f116a64e0979e2ad19c6d9574897aa392083d01843168"
   }
  }
 },
 "nbformat": 4,
 "nbformat_minor": 2
}
